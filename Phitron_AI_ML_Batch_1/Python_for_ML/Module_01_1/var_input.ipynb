{
 "cells": [
  {
   "cell_type": "code",
   "execution_count": null,
   "id": "cc6f87b6",
   "metadata": {},
   "outputs": [],
   "source": [
    "# Variables & Data Types\n",
    "num = 10          # Integer\n",
    "pi = 3.14        # Float\n",
    "name = \"Alice\"   # String\n",
    "is_student = True # Boolean\n",
    "    # Check data types (printing)\n",
    "print(type(num), type(pi), type(name), type(is_student))"
   ]
  },
  {
   "cell_type": "code",
   "execution_count": null,
   "id": "18b1aa8f",
   "metadata": {},
   "outputs": [],
   "source": [
    "# Basic Input & Output\n",
    "num1 = int(input(\"Enter a number: \")) # Type casting to int\n",
    "print(\"You entered:\", num1)\n",
    "\n",
    "num2, num3 = map(int, input().split()) # split() and map()\n",
    "print(\"Sum:\", num2 + num3)\n",
    "\n",
    "height = float(input(\"Enter your height in meters: \"))\n",
    "width = float(input(\"Enter your width in meters: \"))\n",
    "\n",
    "first_name, last_name = input(\"Enter your name and surname: \").split()\n",
    "\n",
    "# Printing Variables with Formatted Output\n",
    "print(f\"Name: {first_name}, Surname: {last_name}\\n Age: {num1}, Student: {is_student}\")"
   ]
  },
  {
   "cell_type": "code",
   "execution_count": null,
   "id": "9165427a",
   "metadata": {},
   "outputs": [],
   "source": [
    "# Operations\n",
    "sum_result = num + num1 # addition\n",
    "diff_result = pi - 1.14 # subtraction\n",
    "div_result = num1 / 3  # division\n",
    "print(\"Sum:\", sum_result, \"Difference:\", diff_result, \"Division:\", div_result)\n",
    "mod_result = num1 % 3  # modulus\n",
    "exp_result = 2 ** 3    # exponentiation\n",
    "print(\"Modulus:\", mod_result, \"Exponentiation:\", exp_result)\n",
    "\n",
    "# Area of Rectangle Calculation\n",
    "area = height * width # multiplication\n",
    "\n",
    "print(type(area))  # Check area type \n",
    "print(\"Rectangle Area:\", area)\n",
    "\n",
    "height += 0.5  # Increment height by 0.5\n",
    "\n",
    "def area_calc(h, w):    # Function to calculate area\n",
    "    return h * w\n",
    "area = area_calc(height, width)\n",
    "print(\"Rectangle Area:\", area)\n"
   ]
  },
  {
   "cell_type": "code",
   "execution_count": null,
   "id": "dc8ce880",
   "metadata": {},
   "outputs": [],
   "source": [
    "\n",
    "# Boolean operations\n",
    "\n",
    "# Multiple variables in one line\n",
    "is_tall = height > 2.0 ; is_wide = width > 1.0\n",
    "\n",
    "bool_result = is_tall and is_wide  # Logical AND operation\n",
    "greater_than_equal = num1 >= 10  # Greater than or equal to\n",
    "\n",
    "print(\"Is Tall and Wide:\", bool_result, \"Num1 >= 10:\", greater_than_equal)\n",
    "\n",
    "# String concatenation\n",
    "\n",
    "concat_result = name + \" Smith\"\n",
    "bool_result = is_student and False  # Logical AND operation\n",
    "\n",
    "print(\"\\nConcatenation:\", concat_result, \"Boolean AND:\", bool_result)\n",
    "\n",
    "def concat_strings(s1, s2):  # Function to concatenate strings\n",
    "    return s1 + \" \" + s2\n",
    "full_name = concat_strings(first_name, last_name)\n",
    "print(\"Full Name:\", full_name)"
   ]
  },
  {
   "cell_type": "code",
   "execution_count": null,
   "id": "39a110a9",
   "metadata": {},
   "outputs": [],
   "source": [
    "# Objects Containers, Map, Lists, Tuples, Sets, Dictionaries\n",
    "\n",
    "# CodeForces F. Digit Summation\n",
    "# https://codeforces.com/group/MWSDmqGsZm/contest/219158/problem/F\n",
    "\n",
    "n, m = map(int, input().split())\n",
    "print(n%10 + m%10)\n",
    "\n",
    "# Same solution using map objects to store multiple inputs\n",
    "numbers = map(int, input().split())\n",
    "print(numbers[0]%10 + numbers[1]%10)\n",
    "\n",
    "print(type(numbers))  # Check type of numbers\n",
    "\n",
    "# Convert map object to list\n",
    "numbers = list(numbers)\n",
    "print(type(numbers))  # Check type after conversion\n",
    "\n",
    "print(numbers[0]%10 + numbers[1]%10)"
   ]
  }
 ],
 "metadata": {
  "language_info": {
   "name": "python"
  }
 },
 "nbformat": 4,
 "nbformat_minor": 5
}
