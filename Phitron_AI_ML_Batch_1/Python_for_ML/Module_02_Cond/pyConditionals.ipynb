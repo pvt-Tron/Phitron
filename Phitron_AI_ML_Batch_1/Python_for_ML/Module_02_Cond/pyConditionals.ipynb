{
 "cells": [
  {
   "cell_type": "code",
   "execution_count": null,
   "id": "b837cd93",
   "metadata": {},
   "outputs": [],
   "source": [
    "# Conditional Statements and Logical Operators\n",
    "taka = 1000\n",
    "raining = False\n",
    "if taka > 500 and not raining:\n",
    "    print(\"Go to the market\")\n",
    "else:\n",
    "    print(\"Stay at home\")\n"
   ]
  },
  {
   "cell_type": "code",
   "execution_count": null,
   "id": "2dd81742",
   "metadata": {},
   "outputs": [],
   "source": [
    "taka = 1000\n",
    "# For loop in Python\n",
    "for i in range(5):\n",
    "    print(i + taka)\n",
    "print(\"Hello, World!\")\n",
    "\n",
    "# while loop in Python\n",
    "while taka > 100:\n",
    "    print(taka)\n",
    "    taka -= 100\n",
    "print(\"Out of the loop\")\n",
    "\n",
    "# Break and Continue\n",
    "for i in range(10):\n",
    "    if i == 5:\n",
    "        continue\n",
    "    print(i)\n",
    "    for i in range(10):\n",
    "        if i == 5:\n",
    "            break\n",
    "        print(i)\n",
    "print(\"Out of the loop\")\n",
    "\n",
    "# Functions in Python\n",
    "def add(a, b):\n",
    "    return a + b"
   ]
  },
  {
   "cell_type": "code",
   "execution_count": null,
   "id": "9a6f435b",
   "metadata": {},
   "outputs": [],
   "source": [
    "# Code Forces K. Max and Min\n",
    "# a, b, c = map(int, input().split())\n",
    "inpt = input()\n",
    "nums = inpt.split()\n",
    "a = int(nums[0])\n",
    "b = int(nums[1])\n",
    "c = int(nums[2])\n",
    "# mn = min(a, b, c)\n",
    "# mx = max(a, b, c)\n",
    "mn = a\n",
    "mx = a\n",
    "if b < mn:\n",
    "    mn = b\n",
    "if c < mn:\n",
    "    mn = c\n",
    "if b > mx:\n",
    "    mx = b\n",
    "if c > mx:\n",
    "    mx = c\n",
    "print(mn, mx)\n"
   ]
  }
 ],
 "metadata": {
  "language_info": {
   "name": "python"
  }
 },
 "nbformat": 4,
 "nbformat_minor": 5
}
